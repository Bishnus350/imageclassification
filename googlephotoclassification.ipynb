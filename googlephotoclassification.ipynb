{
 "cells": [
  {
   "cell_type": "code",
   "execution_count": 26,
   "id": "0feb4211",
   "metadata": {},
   "outputs": [
    {
     "name": "stdout",
     "output_type": "stream",
     "text": [
      "The CPU usage is:  4.1\n"
     ]
    }
   ],
   "source": [
    "#Importing the library\n",
    "import psutil\n",
    "  \n",
    "# Calling psutil.cpu_precent() for 4 seconds\n",
    "print('The CPU usage is: ', psutil.cpu_percent(4))"
   ]
  },
  {
   "cell_type": "code",
   "execution_count": 27,
   "id": "90186fa2",
   "metadata": {},
   "outputs": [
    {
     "name": "stdout",
     "output_type": "stream",
     "text": [
      "The CPU usage is :  4.4375\n"
     ]
    }
   ],
   "source": [
    "import os\n",
    "import psutil\n",
    "\n",
    "# Getting loadover15 minutes\n",
    "load1, load5, load15 = psutil.getloadavg()\n",
    "\n",
    "cpu_usage = (load15/os.cpu_count()) * 100\n",
    "\n",
    "print(\"The CPU usage is : \", cpu_usage)\n"
   ]
  },
  {
   "cell_type": "code",
   "execution_count": 28,
   "id": "f7918529",
   "metadata": {},
   "outputs": [
    {
     "name": "stdout",
     "output_type": "stream",
     "text": [
      "RAM memory % used: 9.5\n"
     ]
    }
   ],
   "source": [
    "# Importing the library\n",
    "import psutil\n",
    "\n",
    "# Getting % usage of virtual_memory ( 3rd field)\n",
    "print('RAM memory % used:', psutil.virtual_memory()[2])\n"
   ]
  },
  {
   "cell_type": "code",
   "execution_count": 29,
   "id": "933a0235",
   "metadata": {},
   "outputs": [
    {
     "name": "stdout",
     "output_type": "stream",
     "text": [
      "Collecting line_profiler\n",
      "  Downloading line_profiler-3.5.1-cp39-cp39-manylinux_2_17_x86_64.manylinux2014_x86_64.whl (70 kB)\n",
      "\u001b[2K     \u001b[38;2;114;156;31m━━━━━━━━━━━━━━━━━━━━━━━━━━━━━━━━━━━━━━━\u001b[0m \u001b[32m70.8/70.8 kB\u001b[0m \u001b[31m246.8 kB/s\u001b[0m eta \u001b[36m0:00:00\u001b[0m1m260.1 kB/s\u001b[0m eta \u001b[36m0:00:01\u001b[0m\n",
      "\u001b[?25hInstalling collected packages: line_profiler\n",
      "Successfully installed line_profiler-3.5.1\n",
      "Note: you may need to restart the kernel to use updated packages.\n"
     ]
    }
   ],
   "source": [
    "pip install line_profiler\n"
   ]
  },
  {
   "cell_type": "code",
   "execution_count": 2,
   "id": "0fd4d307",
   "metadata": {},
   "outputs": [],
   "source": [
    "import splitfolders\n",
    "cwd = '/home/bishnu/Desktop/ML/googlephoto/'"
   ]
  },
  {
   "cell_type": "code",
   "execution_count": 3,
   "id": "781a3acd",
   "metadata": {},
   "outputs": [
    {
     "name": "stderr",
     "output_type": "stream",
     "text": [
      "Copying files: 138 files [00:01, 73.14 files/s]\n"
     ]
    }
   ],
   "source": [
    "# Splitting the folders into training, testing and validation \n",
    "# The ratio is 60%, 20%, 20%\n",
    "# The seed is for random sampling \n",
    "input_folder =  cwd + '/input_datasets'\n",
    "output = cwd + '/processed_data'\n",
    "splitfolders.ratio (input_folder, output, seed= 42, ratio= (0.6, 0.2, 0.2))\n"
   ]
  },
  {
   "cell_type": "code",
   "execution_count": 4,
   "id": "59efb34e",
   "metadata": {},
   "outputs": [
    {
     "name": "stdout",
     "output_type": "stream",
     "text": [
      "Help on function ratio in module splitfolders.split:\n",
      "\n",
      "ratio(input, output='output', seed=1337, ratio=(0.8, 0.1, 0.1), group_prefix=None, move=False)\n",
      "\n"
     ]
    }
   ],
   "source": [
    "help (splitfolders.ratio)"
   ]
  },
  {
   "cell_type": "code",
   "execution_count": 5,
   "id": "f99b6ecd",
   "metadata": {},
   "outputs": [
    {
     "name": "stderr",
     "output_type": "stream",
     "text": [
      "2022-08-29 14:36:46.151543: W tensorflow/stream_executor/platform/default/dso_loader.cc:64] Could not load dynamic library 'libcudart.so.11.0'; dlerror: libcudart.so.11.0: cannot open shared object file: No such file or directory\n",
      "2022-08-29 14:36:46.151623: I tensorflow/stream_executor/cuda/cudart_stub.cc:29] Ignore above cudart dlerror if you do not have a GPU set up on your machine.\n"
     ]
    }
   ],
   "source": [
    "from tensorflow.keras.layers import Conv2D, Flatten, Dense, MaxPool2D, BatchNormalization, GlobalAveragePooling2D\n",
    "from tensorflow.keras.applications.resnet50 import preprocess_input, decode_predictions\n",
    "from tensorflow.keras.preprocessing.image import  ImageDataGenerator, load_img\n",
    "from tensorflow.keras.applications.resnet50 import ResNet50\n",
    "from tensorflow.keras.preprocessing import  image\n",
    "from tensorflow.keras.models import  Sequential\n",
    "from tensorflow.keras.models import  Model\n",
    "import matplotlib.pyplot as plt\n",
    "import numpy as np"
   ]
  },
  {
   "cell_type": "code",
   "execution_count": 6,
   "id": "6dcf1f9c",
   "metadata": {},
   "outputs": [],
   "source": [
    "img_height, img_width = (224, 224)\n",
    "batch_size = 32\n",
    "train_data_dir = cwd + '/processed_data/train'\n",
    "valid_data_dir = cwd + '/processed_data/val'\n",
    "test_data_dir = cwd + '/processed_data/test'"
   ]
  },
  {
   "cell_type": "code",
   "execution_count": 7,
   "id": "8d740c6f",
   "metadata": {},
   "outputs": [
    {
     "name": "stdout",
     "output_type": "stream",
     "text": [
      "Found 50 images belonging to 5 classes.\n",
      "Found 19 images belonging to 5 classes.\n",
      "Found 16 images belonging to 5 classes.\n"
     ]
    }
   ],
   "source": [
    "train_datagen = ImageDataGenerator (preprocessing_function= preprocess_input,\n",
    "                                   shear_range = 0.2, zoom_range = 0.2,\n",
    "                                   horizontal_flip = True, validation_split = 0.4)\n",
    "train_generator = train_datagen.flow_from_directory (train_data_dir,\n",
    "                                                    target_size = (img_height, img_width),\n",
    "                                                    batch_size = 32, class_mode = 'categorical',\n",
    "                                                    subset = 'training') # set as training data\n",
    "valid_generator = train_datagen.flow_from_directory (valid_data_dir,\n",
    "                                                    target_size = (img_height, img_width),\n",
    "                                                    batch_size = 32, class_mode = 'categorical',\n",
    "                                                    subset = 'validation') # set as validation data\n",
    "test_generator = train_datagen.flow_from_directory (test_data_dir,\n",
    "                                                    target_size = (img_height, img_width),\n",
    "                                                    batch_size = 1, class_mode = 'categorical',\n",
    "                                                    subset = 'validation') # set as testing data"
   ]
  },
  {
   "cell_type": "code",
   "execution_count": 8,
   "id": "405505c9",
   "metadata": {},
   "outputs": [
    {
     "data": {
      "text/plain": [
       "(1, 224, 224, 3)"
      ]
     },
     "execution_count": 8,
     "metadata": {},
     "output_type": "execute_result"
    }
   ],
   "source": [
    "x , y = test_generator.next ()\n",
    "x.shape"
   ]
  },
  {
   "cell_type": "code",
   "execution_count": 9,
   "id": "ad169946",
   "metadata": {},
   "outputs": [
    {
     "data": {
      "text/plain": [
       "5"
      ]
     },
     "execution_count": 9,
     "metadata": {},
     "output_type": "execute_result"
    }
   ],
   "source": [
    "train_generator.num_classes"
   ]
  },
  {
   "cell_type": "code",
   "execution_count": null,
   "id": "167b19c2",
   "metadata": {},
   "outputs": [
    {
     "name": "stderr",
     "output_type": "stream",
     "text": [
      "2022-08-29 14:37:40.905638: W tensorflow/stream_executor/platform/default/dso_loader.cc:64] Could not load dynamic library 'libcuda.so.1'; dlerror: libcuda.so.1: cannot open shared object file: No such file or directory\n",
      "2022-08-29 14:37:40.905738: W tensorflow/stream_executor/cuda/cuda_driver.cc:269] failed call to cuInit: UNKNOWN ERROR (303)\n",
      "2022-08-29 14:37:40.905813: I tensorflow/stream_executor/cuda/cuda_diagnostics.cc:156] kernel driver does not appear to be running on this host (bishnu-ncuastro): /proc/driver/nvidia/version does not exist\n",
      "2022-08-29 14:37:40.906885: I tensorflow/core/platform/cpu_feature_guard.cc:193] This TensorFlow binary is optimized with oneAPI Deep Neural Network Library (oneDNN) to use the following CPU instructions in performance-critical operations:  AVX2 FMA\n",
      "To enable them in other operations, rebuild TensorFlow with the appropriate compiler flags.\n"
     ]
    },
    {
     "name": "stdout",
     "output_type": "stream",
     "text": [
      "Epoch 1/30\n",
      "2/2 [==============================] - 4s 711ms/step - loss: 1.4841 - accuracy: 0.3600\n",
      "Epoch 2/30\n",
      "2/2 [==============================] - 1s 335ms/step - loss: 0.5247 - accuracy: 0.8400\n",
      "Epoch 3/30\n",
      "2/2 [==============================] - 1s 836ms/step - loss: 0.0976 - accuracy: 0.9600\n",
      "Epoch 4/30\n",
      "2/2 [==============================] - 1s 330ms/step - loss: 0.0121 - accuracy: 1.0000\n",
      "Epoch 5/30\n",
      "2/2 [==============================] - 1s 328ms/step - loss: 0.0454 - accuracy: 0.9600\n",
      "Epoch 6/30\n",
      "2/2 [==============================] - 1s 846ms/step - loss: 0.0063 - accuracy: 1.0000\n",
      "Epoch 7/30\n",
      "2/2 [==============================] - 1s 764ms/step - loss: 0.0073 - accuracy: 1.0000\n",
      "Epoch 8/30\n",
      "2/2 [==============================] - 1s 335ms/step - loss: 9.5460e-04 - accuracy: 1.0000\n",
      "Epoch 9/30\n",
      "2/2 [==============================] - 1s 333ms/step - loss: 8.7831e-04 - accuracy: 1.0000\n",
      "Epoch 10/30\n",
      "2/2 [==============================] - 1s 331ms/step - loss: 0.0035 - accuracy: 1.0000\n",
      "Epoch 11/30\n",
      "2/2 [==============================] - 1s 854ms/step - loss: 0.0012 - accuracy: 1.0000\n",
      "Epoch 12/30\n",
      "2/2 [==============================] - 1s 845ms/step - loss: 0.0011 - accuracy: 1.0000\n",
      "Epoch 13/30\n",
      "2/2 [==============================] - 1s 331ms/step - loss: 1.1412e-04 - accuracy: 1.0000\n",
      "Epoch 14/30\n",
      "2/2 [==============================] - 1s 900ms/step - loss: 3.7515e-04 - accuracy: 1.0000\n",
      "Epoch 15/30\n",
      "2/2 [==============================] - 1s 745ms/step - loss: 8.8703e-05 - accuracy: 1.0000\n",
      "Epoch 16/30\n",
      "2/2 [==============================] - 1s 338ms/step - loss: 3.5057e-05 - accuracy: 1.0000\n",
      "Epoch 17/30\n",
      "2/2 [==============================] - 1s 792ms/step - loss: 1.1898e-05 - accuracy: 1.0000\n",
      "Epoch 18/30\n",
      "2/2 [==============================] - 1s 341ms/step - loss: 7.0455e-05 - accuracy: 1.0000\n",
      "Epoch 19/30\n",
      "2/2 [==============================] - 1s 334ms/step - loss: 6.8228e-05 - accuracy: 1.0000\n",
      "Epoch 20/30\n",
      "2/2 [==============================] - 1s 352ms/step - loss: 3.9408e-06 - accuracy: 1.0000\n",
      "Epoch 21/30\n",
      "2/2 [==============================] - 1s 784ms/step - loss: 9.1042e-06 - accuracy: 1.0000\n",
      "Epoch 22/30\n",
      "2/2 [==============================] - 1s 330ms/step - loss: 2.9727e-04 - accuracy: 1.0000\n",
      "Epoch 23/30\n",
      "2/2 [==============================] - 1s 895ms/step - loss: 6.9564e-06 - accuracy: 1.0000\n",
      "Epoch 24/30\n",
      "2/2 [==============================] - 1s 332ms/step - loss: 2.7846e-05 - accuracy: 1.0000\n",
      "Epoch 25/30\n",
      "2/2 [==============================] - 1s 897ms/step - loss: 3.0207e-06 - accuracy: 1.0000\n",
      "Epoch 26/30\n",
      "2/2 [==============================] - 1s 333ms/step - loss: 8.7297e-06 - accuracy: 1.0000\n",
      "Epoch 27/30\n",
      "2/2 [==============================] - 1s 353ms/step - loss: 4.3009e-06 - accuracy: 1.0000\n",
      "Epoch 28/30\n",
      "2/2 [==============================] - 1s 895ms/step - loss: 9.4175e-07 - accuracy: 1.0000\n",
      "Epoch 29/30\n"
     ]
    }
   ],
   "source": [
    "base_model = ResNet50 (include_top= False, weights= 'imagenet')\n",
    "x = base_model.output\n",
    "x = GlobalAveragePooling2D ()(x)\n",
    "x = Dense (1024, activation = 'relu') (x)\n",
    "predictions = Dense (train_generator.num_classes, activation = 'softmax') (x)\n",
    "model = Model (inputs = base_model.input, outputs = predictions)\n",
    "\n",
    "for layer in base_model.layers:\n",
    "    layer.trainable = False\n",
    "model.compile (optimizer= 'adam', loss = 'categorical_crossentropy', metrics = ['accuracy'])\n",
    "model.fit (train_generator, epochs = 30)"
   ]
  },
  {
   "cell_type": "code",
   "execution_count": null,
   "id": "91be6838",
   "metadata": {},
   "outputs": [],
   "source": [
    "model.save (cwd +' Saved_Model/ cmd.h5')"
   ]
  },
  {
   "cell_type": "code",
   "execution_count": 22,
   "id": "22b93f4b",
   "metadata": {},
   "outputs": [
    {
     "name": "stdout",
     "output_type": "stream",
     "text": [
      "16/16 - 1s - loss: 1.2956e-04 - accuracy: 1.0000 - 1s/epoch - 88ms/step\n",
      "Test accuracy 1.0\n"
     ]
    }
   ],
   "source": [
    "trdt_loss, test_acc = model.evaluate (test_generator, verbose = 2)\n",
    "print ('Test accuracy', test_acc)"
   ]
  },
  {
   "cell_type": "code",
   "execution_count": 23,
   "id": "e5ef90f8",
   "metadata": {},
   "outputs": [
    {
     "name": "stdout",
     "output_type": "stream",
     "text": [
      "1/1 [==============================] - 1s 558ms/step\n",
      "1/1 [==============================] - 0s 35ms/step\n",
      "1/1 [==============================] - 0s 34ms/step\n",
      "1/1 [==============================] - 0s 34ms/step\n",
      "1/1 [==============================] - 0s 33ms/step\n",
      "1/1 [==============================] - 0s 34ms/step\n",
      "1/1 [==============================] - 0s 42ms/step\n",
      "1/1 [==============================] - 0s 36ms/step\n",
      "1/1 [==============================] - 0s 36ms/step\n",
      "1/1 [==============================] - 0s 35ms/step\n",
      "1/1 [==============================] - 0s 34ms/step\n",
      "1/1 [==============================] - 0s 34ms/step\n",
      "1/1 [==============================] - 0s 32ms/step\n",
      "1/1 [==============================] - 0s 33ms/step\n",
      "1/1 [==============================] - 0s 33ms/step\n",
      "1/1 [==============================] - 0s 32ms/step\n"
     ]
    },
    {
     "data": {
      "image/png": "[encoded data removed]",
      "text/plain": [
       "<Figure size 432x288 with 2 Axes>"
      ]
     },
     "metadata": {
      "needs_background": "light"
     },
     "output_type": "display_data"
    },
    {
     "name": "stdout",
     "output_type": "stream",
     "text": [
      "test accuracy: 100.0\n"
     ]
    },
    {
     "data": {
      "text/plain": [
       "<Figure size 432x288 with 0 Axes>"
      ]
     },
     "metadata": {},
     "output_type": "display_data"
    }
   ],
   "source": [
    "import pandas as pd\n",
    "import seaborn as sns\n",
    "\n",
    "import tensorflow as tf\n",
    "model = tf.keras.models.load_model (cwd + ' Saved_Model/ cmd.h5')\n",
    "filename = test_generator.filenames\n",
    "nb_samples = len (test_generator)\n",
    "y_prob = []\n",
    "y_act = []\n",
    "test_generator.reset ()\n",
    "for _ in range (nb_samples):\n",
    "    x_test, y_test = test_generator.next ()\n",
    "    y_prob.append (model.predict (x_test))\n",
    "    y_act.append (y_test)\n",
    "\n",
    "predicted_class = [list (train_generator.class_indices.keys ())[i.argmax()] for i in y_prob]\n",
    "actual_class = [list (train_generator.class_indices.keys ())[i.argmax()] for i in y_act]\n",
    "\n",
    "out_df = pd.DataFrame (np.vstack ([predicted_class, actual_class]).T, columns = ['predicted_class', 'actual_class'])\n",
    "confusion_matrix = pd.crosstab (out_df['actual_class'], out_df ['predicted_class'], rownames = ['Actual'], colnames = ['Predicted'])\n",
    "sns.heatmap (confusion_matrix, cmap = 'Blues', annot = True, fmt = 'd')\n",
    "plt.show ()\n",
    "plt.savefig (cwd + 'accuracy.jpg', dpi = 300)\n",
    "print ('test accuracy: {}'. format ((np.diagonal (confusion_matrix).sum()/confusion_matrix.sum ().sum()*100)))"
   ]
  },
  {
   "cell_type": "code",
   "execution_count": 1,
   "id": "98f369df",
   "metadata": {},
   "outputs": [
    {
     "data": {
      "text/plain": [
       "16"
      ]
     },
     "execution_count": 1,
     "metadata": {},
     "output_type": "execute_result"
    }
   ],
   "source": [
    "import multiprocessing\n",
    "\n",
    "multiprocessing.cpu_count()"
   ]
  },
  {
   "cell_type": "code",
   "execution_count": null,
   "id": "306e188b",
   "metadata": {},
   "outputs": [],
   "source": []
  }
 ],
 "metadata": {
  "kernelspec": {
   "display_name": "Python 3 (ipykernel)",
   "language": "python",
   "name": "python3"
  },
  "language_info": {
   "codemirror_mode": {
    "name": "ipython",
    "version": 3
   },
   "file_extension": ".py",
   "mimetype": "text/x-python",
   "name": "python",
   "nbconvert_exporter": "python",
   "pygments_lexer": "ipython3",
   "version": "3.9.7"
  }
 },
 "nbformat": 4,
 "nbformat_minor": 5
}
